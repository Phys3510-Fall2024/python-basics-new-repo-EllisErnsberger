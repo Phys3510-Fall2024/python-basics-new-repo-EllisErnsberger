{
 "cells": [
  {
   "attachments": {},
   "cell_type": "markdown",
   "id": "267277af-b990-45b7-9866-0845fbdaeb55",
   "metadata": {},
   "source": [
    "## 1. Basic Arithmetic Operations in Python\n",
    "\n",
    "\n",
    "Python provides several native operations that you will use frequently. In this section, you will practice the following operations:\n",
    "\n",
    "\n",
    "- Addition (`+`)\n",
    "- Subtraction (`-`)\n",
    "- Multiplication (`*`)\n",
    "- Division (`/`)\n",
    "- Exponentiation (`**`)\n",
    "\n",
    "\n",
    "There are also a few less common operations that you might see:\n",
    "\n",
    "\n",
    "- Modulus (`%`)\n",
    "- Floor Division (`//`)\n"
   ]
  },
  {
   "attachments": {},
   "cell_type": "markdown",
   "id": "cdf6eadd-8451-4e51-8183-fadaec0ace02",
   "metadata": {},
   "source": [
    "### Task:\n",
    "\n",
    "\n",
    "1. Create variables `a` and `b` with values of your choice.\n",
    "2. Perform each of the above operations using `a` and `b`.\n",
    "3. Print the results.\n"
   ]
  },
  {
   "cell_type": "code",
   "execution_count": null,
   "id": "b63c14b6-9de8-4f2f-bbda-615cdd13893e",
   "metadata": {},
   "outputs": [],
   "source": [
    "a = 10.2\n",
    "b = 3\n",
    "\n",
    "# Example:\n",
    "addition = a + b\n",
    "print(f\"Addition: {addition}\")\n",
    "# Repeat for other operations"
   ]
  },
  {
   "cell_type": "code",
   "execution_count": 1,
   "id": "ee04144b-85ef-46d0-81da-71b5aafef608",
   "metadata": {},
   "outputs": [
    {
     "name": "stdout",
     "output_type": "stream",
     "text": [
      "Addition: 15\n",
      "Subtraction: -5\n",
      "Multiplication: 50\n",
      "Division: 0.5\n",
      "Exponentiation: 9765625\n",
      "Modulus: 5\n",
      "Floor Division: 0\n"
     ]
    }
   ],
   "source": [
    "a = 5\n",
    "b = 10\n",
    "\n",
    "addition = a + b\n",
    "print(f\"Addition: {addition}\")\n",
    "subtraction = a - b\n",
    "print(f\"Subtraction: {subtraction}\")\n",
    "multiplication = a * b\n",
    "print(f\"Multiplication: {multiplication}\")\n",
    "division = a / b\n",
    "print(f\"Division: {division}\")\n",
    "exponentiation = a ** b\n",
    "print(f\"Exponentiation: {exponentiation}\")\n",
    "modulus = a % b\n",
    "print(f\"Modulus: {modulus}\")\n",
    "floor_division = a // b\n",
    "print(f\"Floor Division: {floor_division}\")"
   ]
  },
  {
   "attachments": {},
   "cell_type": "markdown",
   "id": "a3f35134-51cc-41a7-9069-4d86efe8cd20",
   "metadata": {},
   "source": [
    "## 2. Variable Assignment and Manipulation\n",
    "\n",
    "\n",
    "Variables in Python are used to store data that can be reused and manipulated.\n",
    "Task:\n",
    "\n",
    "\n",
    "    Assign values to variables x, y, and z.\n",
    "    Reassign and manipulate these variables.\n",
    "    Explore the use of the semicolon (;) to write multiple statements on a single line.\n",
    "    Use the backslash (\\) to continue long lines of code.\n"
   ]
  },
  {
   "cell_type": "code",
   "execution_count": 6,
   "id": "5eb4ec36",
   "metadata": {},
   "outputs": [
    {
     "data": {
      "text/plain": [
       "604"
      ]
     },
     "execution_count": 6,
     "metadata": {},
     "output_type": "execute_result"
    }
   ],
   "source": [
    "x = 2\n",
    "y = 3\n",
    "z = x - 3*y\n",
    "\n",
    "# using semicolons\n",
    "a = 1; b = 2; c = a + b\n",
    "\n",
    "# using backslashes\n",
    "long_sum = x + y + z + a + b + c + \\\n",
    "            100 + 200 + 300\n",
    "long_sum"
   ]
  },
  {
   "cell_type": "markdown",
   "id": "2faab7fd-d8c9-4c52-9ead-209ae6d61622",
   "metadata": {},
   "source": [
    "## 3. Numerical Types, Strings, and Type Checking\n",
    "\n",
    "**Numerical Types**\n",
    "\n",
    "### 1. Integer (`int`)\n",
    "- Whole numbers, e.g., `42`, `-10`.\n",
    "- Operations: `+`, `-`, `*`, `/` (float result), `//` (floor division), `%`, `**` (exponent).\n"
   ]
  },
  {
   "cell_type": "code",
   "execution_count": 16,
   "id": "3658f79d-8526-41ef-bed3-71422948b322",
   "metadata": {},
   "outputs": [
    {
     "name": "stdout",
     "output_type": "stream",
     "text": [
      "Addition: 13\n",
      "Subtraction: 7\n",
      "Multiplication: 30\n",
      "Division (float result): 3.3333333333333335\n",
      "Floor Division: 3\n",
      "Modulus: 1\n",
      "Exponentiation: 1000\n"
     ]
    }
   ],
   "source": [
    "# integers and basic operations\n",
    "a, b = 10, 3\n",
    "print(\"Addition:\", a + b)\n",
    "print(\"Subtraction:\", a - b)\n",
    "print(\"Multiplication:\", a * b)\n",
    "print(\"Division (float result):\", a / b)\n",
    "print(\"Floor Division:\", a // b)\n",
    "print(\"Modulus:\", a % b)\n",
    "print(\"Exponentiation:\", a ** b)"
   ]
  },
  {
   "cell_type": "markdown",
   "id": "8f0c895d-4d7d-46fe-a254-cc2b9ec29401",
   "metadata": {},
   "source": [
    "### 2. Floating-Point (`float`)\n",
    "- Numbers with decimals, e.g., `3.14`, `-2.5`.\n",
    "- Operations: Same as `int`, but with decimal precision.\n",
    "- Special values: `float('inf')`, `float('-inf')`, `float('nan')`.\n"
   ]
  },
  {
   "cell_type": "code",
   "execution_count": 17,
   "id": "ca7dbab6-5210-45c4-8a51-bf8a6fea4fab",
   "metadata": {},
   "outputs": [
    {
     "name": "stdout",
     "output_type": "stream",
     "text": [
      "Addition: 20.259999999999998\n",
      "Subtraction: -1.42\n",
      "Multiplication: 102.1128\n",
      "Division: 0.8690036900369004\n"
     ]
    }
   ],
   "source": [
    "# floats and basic operations\n",
    "x, y = 3*3.14, 4*2.71\n",
    "print(\"Addition:\", x + y)\n",
    "print(\"Subtraction:\", x - y)\n",
    "print(\"Multiplication:\", x * y)\n",
    "print(\"Division:\", x / y)\n"
   ]
  },
  {
   "cell_type": "markdown",
   "id": "b9c0444f-aad8-4c1a-a9f1-94377f52c545",
   "metadata": {},
   "source": [
    "### 3. Complex (`complex`)\n",
    "- Numbers with real and imaginary parts, e.g., `1 + 2j`.\n",
    "- Operations: `+`, `-`, `*`, `/`.\n",
    "- Access parts: `.real`, `.imag`, `.conjugate()`.\n"
   ]
  },
  {
   "cell_type": "code",
   "execution_count": 18,
   "id": "a6fd9a70-7c00-433f-99a1-fd0257d698b0",
   "metadata": {},
   "outputs": [
    {
     "name": "stdout",
     "output_type": "stream",
     "text": [
      "Addition: (10+1j)\n",
      "Subtraction: (-4-13j)\n",
      "Multiplication: (63-21j)\n",
      "Division: (-0.21428571428571427-0.6428571428571429j)\n",
      "Real part of z1: 3.0\n",
      "Imaginary part of z1: -6.0\n",
      "Conjugate of z1: (3+6j)\n"
     ]
    }
   ],
   "source": [
    "# complex numbers and operations\n",
    "z1, z2 = 3 - 6j, 7 + 7j\n",
    "print(\"Addition:\", z1 + z2)\n",
    "print(\"Subtraction:\", z1 - z2)\n",
    "print(\"Multiplication:\", z1 * z2)\n",
    "print(\"Division:\", z1 / z2)\n",
    "print(\"Real part of z1:\", z1.real)\n",
    "print(\"Imaginary part of z1:\", z1.imag)\n",
    "print(\"Conjugate of z1:\", z1.conjugate())\n"
   ]
  },
  {
   "cell_type": "markdown",
   "id": "83bd0222-14ce-4dce-bd05-3de1eae4bbc3",
   "metadata": {},
   "source": [
    "**Strings and Type Checking**\n",
    "\n",
    "### 1. Strings (`str`)\n",
    "- Defined by enclosing text in single (`'`) or double (`\"`) quotes.\n",
    "- Example: `'This is a string.'`, `\"...so is this\"`.\n"
   ]
  },
  {
   "cell_type": "code",
   "execution_count": 19,
   "id": "63592237-cbbb-4ff6-959f-748456efbc30",
   "metadata": {},
   "outputs": [
    {
     "name": "stdout",
     "output_type": "stream",
     "text": [
      "This is a big ole string\n"
     ]
    }
   ],
   "source": [
    "# defining a string\n",
    "s = \"This is a big ole string\"\n",
    "print(s)\n"
   ]
  },
  {
   "cell_type": "markdown",
   "id": "e11e89d6-c684-44c5-b14c-de6f9bbf91b7",
   "metadata": {},
   "source": [
    "### 2. Type Checking\n",
    "- Use `type(variable)` to check the type of any variable.\n"
   ]
  },
  {
   "cell_type": "code",
   "execution_count": 20,
   "id": "966addcb-ac11-449f-a820-6a2d796c9c14",
   "metadata": {},
   "outputs": [
    {
     "name": "stdout",
     "output_type": "stream",
     "text": [
      "Type of a: <class 'int'>\n",
      "Type of b: <class 'float'>\n",
      "Type of c: <class 'complex'>\n",
      "Type of s: <class 'str'>\n"
     ]
    }
   ],
   "source": [
    "# type checking\n",
    "a = 1000\n",
    "b = 2*3.14\n",
    "c = 4 + 5j\n",
    "s = \"still a string\"\n",
    "\n",
    "print(\"Type of a:\", type(a))  # integer\n",
    "print(\"Type of b:\", type(b))  # float\n",
    "print(\"Type of c:\", type(c))  # complex\n",
    "print(\"Type of s:\", type(s))  # string\n"
   ]
  },
  {
   "attachments": {},
   "cell_type": "markdown",
   "id": "5560b12e-a754-49db-b525-cad703b1573e",
   "metadata": {},
   "source": [
    "## 4. Comparison and Logical Operators\n",
    "**Comparison Operators**\n",
    "\n",
    "\n",
    "Comparison operators are used to compare two values:\n",
    "\n",
    "\n",
    "    <: Less than\n",
    "    >: Greater than\n",
    "    ==: Equal to\n",
    "    !=: Not equal to\n",
    "    <=: Less than or equal to\n",
    "    >=: Greater than or equal to\n",
    "\n",
    "\n",
    "**Logical Operators**\n",
    "\n",
    "\n",
    "Logical operators combine multiple comparison expressions:\n",
    "\n",
    "\n",
    "    and: Returns True if both expressions are true.\n",
    "    or: Returns True if at least one expression is true.\n",
    "    not: Inverts the boolean value of an expression.\n",
    "\n",
    "\n",
    "Task:\n",
    "\n",
    "\n",
    "    Use comparison operators to evaluate conditions between two variables.\n",
    "    Combine these conditions using logical operators to create more complex expressions.\n"
   ]
  },
  {
   "cell_type": "code",
   "execution_count": 21,
   "id": "b7d00cb2",
   "metadata": {},
   "outputs": [
    {
     "name": "stdout",
     "output_type": "stream",
     "text": [
      "True\n",
      "True\n",
      "True\n",
      "True\n",
      "True\n"
     ]
    }
   ],
   "source": [
    "x = 5\n",
    "y = 10\n",
    "\n",
    "is_x_less_than_y = x < y  # true\n",
    "is_y_equal_to_10 = y == 10  # true\n",
    "\n",
    "is_x_between_4_and_15 = (x > 4) and (x < 15)  #true\n",
    "is_y_10_or_greater = y >= 10 or y < 5 # true\n",
    "is_not_equal_to_5 = not (x == 3) # true\n",
    "\n",
    "print(is_x_less_than_y)\n",
    "print(is_y_equal_to_10)\n",
    "print(is_x_between_4_and_15)\n",
    "print(is_y_10_or_greater)\n",
    "print(is_not_equal_to_5)"
   ]
  },
  {
   "attachments": {},
   "cell_type": "markdown",
   "id": "1f216769-85b8-4d13-bfc0-6f9491d94196",
   "metadata": {},
   "source": [
    "## 5. Getting Help in Python\n",
    "\n",
    "\n",
    "Python provides built-in functions to get help and explore the capabilities of objects.\n",
    "Task:\n",
    "\n",
    "\n",
    "    Use the dir() function to list the attributes and methods of an object.\n",
    "    In Jupyter Notebook, use the ? and ?? operators to access the docstring and source code of functions.\n"
   ]
  },
  {
   "cell_type": "code",
   "execution_count": 22,
   "id": "be18303b",
   "metadata": {},
   "outputs": [
    {
     "data": {
      "text/plain": [
       "['__add__',\n",
       " '__class__',\n",
       " '__contains__',\n",
       " '__delattr__',\n",
       " '__dir__',\n",
       " '__doc__',\n",
       " '__eq__',\n",
       " '__format__',\n",
       " '__ge__',\n",
       " '__getattribute__',\n",
       " '__getitem__',\n",
       " '__getnewargs__',\n",
       " '__gt__',\n",
       " '__hash__',\n",
       " '__init__',\n",
       " '__init_subclass__',\n",
       " '__iter__',\n",
       " '__le__',\n",
       " '__len__',\n",
       " '__lt__',\n",
       " '__mod__',\n",
       " '__mul__',\n",
       " '__ne__',\n",
       " '__new__',\n",
       " '__reduce__',\n",
       " '__reduce_ex__',\n",
       " '__repr__',\n",
       " '__rmod__',\n",
       " '__rmul__',\n",
       " '__setattr__',\n",
       " '__sizeof__',\n",
       " '__str__',\n",
       " '__subclasshook__',\n",
       " 'capitalize',\n",
       " 'casefold',\n",
       " 'center',\n",
       " 'count',\n",
       " 'encode',\n",
       " 'endswith',\n",
       " 'expandtabs',\n",
       " 'find',\n",
       " 'format',\n",
       " 'format_map',\n",
       " 'index',\n",
       " 'isalnum',\n",
       " 'isalpha',\n",
       " 'isascii',\n",
       " 'isdecimal',\n",
       " 'isdigit',\n",
       " 'isidentifier',\n",
       " 'islower',\n",
       " 'isnumeric',\n",
       " 'isprintable',\n",
       " 'isspace',\n",
       " 'istitle',\n",
       " 'isupper',\n",
       " 'join',\n",
       " 'ljust',\n",
       " 'lower',\n",
       " 'lstrip',\n",
       " 'maketrans',\n",
       " 'partition',\n",
       " 'removeprefix',\n",
       " 'removesuffix',\n",
       " 'replace',\n",
       " 'rfind',\n",
       " 'rindex',\n",
       " 'rjust',\n",
       " 'rpartition',\n",
       " 'rsplit',\n",
       " 'rstrip',\n",
       " 'split',\n",
       " 'splitlines',\n",
       " 'startswith',\n",
       " 'strip',\n",
       " 'swapcase',\n",
       " 'title',\n",
       " 'translate',\n",
       " 'upper',\n",
       " 'zfill']"
      ]
     },
     "execution_count": 22,
     "metadata": {},
     "output_type": "execute_result"
    }
   ],
   "source": [
    "dir(str)"
   ]
  },
  {
   "cell_type": "code",
   "execution_count": 23,
   "id": "718c3c56-0805-4616-9383-76d265f12d81",
   "metadata": {},
   "outputs": [
    {
     "name": "stdout",
     "output_type": "stream",
     "text": [
      "Help on method_descriptor:\n",
      "\n",
      "lower(self, /)\n",
      "    Return a copy of the string converted to lowercase.\n",
      "\n"
     ]
    }
   ],
   "source": [
    "help(str.lower)"
   ]
  },
  {
   "cell_type": "code",
   "execution_count": 24,
   "id": "b509e5de-b897-4bb9-a01f-d538b72625e6",
   "metadata": {},
   "outputs": [
    {
     "data": {
      "text/plain": [
       "\u001b[1;31mSignature:\u001b[0m \u001b[0mstr\u001b[0m\u001b[1;33m.\u001b[0m\u001b[0mlower\u001b[0m\u001b[1;33m(\u001b[0m\u001b[0mself\u001b[0m\u001b[1;33m,\u001b[0m \u001b[1;33m/\u001b[0m\u001b[1;33m)\u001b[0m\u001b[1;33m\u001b[0m\u001b[1;33m\u001b[0m\u001b[0m\n",
       "\u001b[1;31mDocstring:\u001b[0m Return a copy of the string converted to lowercase.\n",
       "\u001b[1;31mType:\u001b[0m      method_descriptor"
      ]
     },
     "metadata": {},
     "output_type": "display_data"
    }
   ],
   "source": [
    "str.lower?"
   ]
  },
  {
   "cell_type": "code",
   "execution_count": 25,
   "id": "f14b5cc3-ede2-4abf-a23c-14866705e629",
   "metadata": {},
   "outputs": [
    {
     "data": {
      "text/plain": [
       "\u001b[1;31mSignature:\u001b[0m \u001b[0mstr\u001b[0m\u001b[1;33m.\u001b[0m\u001b[0mlower\u001b[0m\u001b[1;33m(\u001b[0m\u001b[0mself\u001b[0m\u001b[1;33m,\u001b[0m \u001b[1;33m/\u001b[0m\u001b[1;33m)\u001b[0m\u001b[1;33m\u001b[0m\u001b[1;33m\u001b[0m\u001b[0m\n",
       "\u001b[1;31mDocstring:\u001b[0m Return a copy of the string converted to lowercase.\n",
       "\u001b[1;31mType:\u001b[0m      method_descriptor"
      ]
     },
     "metadata": {},
     "output_type": "display_data"
    }
   ],
   "source": [
    "str.lower??"
   ]
  },
  {
   "cell_type": "markdown",
   "id": "c76ab549-fb30-4c56-a83c-f3b61e7a9c55",
   "metadata": {},
   "source": [
    "Additionally, refer to the [Python documentation](https://docs.python.org/3/) for more detailed syntax and usage."
   ]
  },
  {
   "attachments": {},
   "cell_type": "markdown",
   "id": "97df79b6-cb82-45e6-b35b-238c296caca8",
   "metadata": {},
   "source": [
    "## 6. Managing Error Messages\n",
    "\n",
    "\n",
    "Errors are a natural part of programming. Understanding them is crucial for debugging.\n",
    "Task:\n",
    "\n",
    "\n",
    "    Intentionally create common errors (e.g., NameError, TypeError, SyntaxError).\n",
    "    Examine the error messages, noting the order of information presented.\n",
    "    Identify the type of error and common causes.\n",
    "    Fix the errors.\n"
   ]
  },
  {
   "cell_type": "code",
   "execution_count": 47,
   "id": "97764dda",
   "metadata": {},
   "outputs": [
    {
     "name": "stdout",
     "output_type": "stream",
     "text": [
      "10\n"
     ]
    }
   ],
   "source": [
    "# NameError\n",
    "# print(undefined_variable)\n",
    "\n",
    "# defining apples\n",
    "apples = 10\n",
    "\n",
    "#definding variable\n",
    "undefined_variable = apples\n",
    "\n",
    "#output\n",
    "print(undefined_variable)"
   ]
  },
  {
   "cell_type": "code",
   "execution_count": 48,
   "id": "42c250a3",
   "metadata": {},
   "outputs": [],
   "source": [
    "# TypeError\n",
    "# result = \"string\" + 5\n",
    "\n",
    "# defining strings\n",
    "s = 10\n",
    "b = 5\n",
    "\n",
    "result = \"s\" + \"b\""
   ]
  },
  {
   "cell_type": "code",
   "execution_count": 49,
   "id": "e97e4675",
   "metadata": {},
   "outputs": [
    {
     "name": "stdout",
     "output_type": "stream",
     "text": [
      "x is greater\n"
     ]
    }
   ],
   "source": [
    "# defining variables\n",
    "x = 10\n",
    "y = 5\n",
    "\n",
    "if x > y:\n",
    "    print(\"x is greater\")"
   ]
  },
  {
   "attachments": {},
   "cell_type": "markdown",
   "id": "dca8b82e-44d5-4caa-a613-cbeaf0011c2c",
   "metadata": {},
   "source": [
    "## 7. Lists, tuples, and dictionaries: [], (), and {}\n",
    "\n",
    "\n",
    "Python uses different brackets for various purposes:\n",
    "\n",
    "\n",
    "    []: Used for lists, indexing, and slicing.\n",
    "    (): Used for tuples, function calls, and expressions.\n",
    "    {}: Used for dictionaries and string formatting.\n",
    "\n",
    "\n",
    "Task:\n",
    "\n",
    "\n",
    "    Create a dictionary, tuple, and list.\n",
    "    Access elements and perform operations on them.\n",
    "\n",
    "\n",
    "Note:\n",
    "    Python starts indexing at 0, so the first element of a list 'my_list' would be mylist(0)\n"
   ]
  },
  {
   "cell_type": "code",
   "execution_count": 50,
   "id": "9865a8b0",
   "metadata": {},
   "outputs": [
    {
     "name": "stdout",
     "output_type": "stream",
     "text": [
      "Python\n",
      "3\n",
      "[7, 8]\n"
     ]
    }
   ],
   "source": [
    "# dictionary \n",
    "my_dict = {\"name\": \"Python\", \"version\": 3.9}\n",
    "\n",
    "# tuple\n",
    "my_tuple = (2, 3, 4)\n",
    "\n",
    "#list\n",
    "my_list = [5, 6, 7, 8, 9]\n",
    "\n",
    "#output\n",
    "print(my_dict[\"name\"])\n",
    "print(my_tuple[1])\n",
    "print(my_list[2:4])"
   ]
  },
  {
   "attachments": {},
   "cell_type": "markdown",
   "id": "a5c61665-ccf6-4084-ab5a-93d4e99f36ff",
   "metadata": {},
   "source": [
    "## Assignment: Creating a Conversion Dictionary\n",
    "\n",
    "\n",
    "Objective:\n",
    "The goal of this assignment is to create a simple Python dictionary that stores conversion factors between different descriptors of waves  and a Boolean flag indicating whether the relationship between the units is an inverse relationship.\n",
    "\n",
    "\n",
    "**Part 0: Basic equations being used**\n",
    "\n",
    "\n",
    "The relationship between a waves characteristic length (or inverse length) and its frequency (or period) is called a dispersion relation. This can also be extended to energy quantities.\n",
    "\n",
    "For light in vacuum, some common ways of expressing this dispersion relation are:\n",
    "\n",
    "\n",
    "   * $f = c/\\lambda$ : the linear frequency is related to the wavelength, $\\lambda$, by the speed of light, $c$.\n",
    "\n",
    "   * $\\omega = c k$ : the angular frequency is related to the angular wavevector/wavenumber, $k$, by the speed of light. \n",
    "\n",
    "   * $\\lambda/T = c$ : here $T$ is the period.  \n",
    "\n",
    "   * $E = h f = \\hbar \\omega = \\hbar c k $ : here $h$ is Planck's constant and $\\hbar$ is the reduced Planck's constant.  \n",
    "\n",
    "   * $k = 2 \\pi \\nu$ : $\\nu$ is the linear wavenumber.\n",
    "\n",
    "\n",
    "**Check the units to help you remember these dispersion relations.**\n"
   ]
  },
  {
   "cell_type": "markdown",
   "id": "0d1abeed-edbf-4db8-af1b-40ca2971206a",
   "metadata": {},
   "source": [
    "**Part 1: Understanding the Units**\n",
    "\n",
    "\n",
    "1. Units to Consider:\n",
    "\n",
    "\n",
    "    THz: terahertz (Frequency)\n",
    "    ps: picoseconds (Period)\n",
    "    cm⁻¹: inverse centimeters (Wavenumber)\n",
    "    nm: nanometers (Wavelength)\n",
    "    meV: millielectronvolts (energy) \n"
   ]
  },
  {
   "cell_type": "markdown",
   "id": "c4f72d23-8972-4b1e-9a8f-b5fd0326e896",
   "metadata": {},
   "source": [
    "**Part 2: Conversion Relationships and Factors**\n",
    "\n",
    "\n",
    "2. Conversion Relationships: Use the dispersion relations to find how the various units are related\n",
    "\n",
    "\n",
    "    Linear Frequency to Period (THz to ps): Inverse relationship: $T = 1/f$\n",
    "    Angular Frequency to Wavenumber (THz to cm⁻¹): Direct relationship: $k = \\omega/c$\n",
    "    Linear Frequency to Wavelength (THz to nm): Inverse relationship: $\\lambda = c/f$"
   ]
  },
  {
   "cell_type": "markdown",
   "id": "201039a0-6425-4a1a-be69-ad783942da17",
   "metadata": {},
   "source": [
    "**Part 3: Creating the Dictionary**\n",
    "\n",
    "\n",
    "3. Dictionary Construction:\n",
    "\n",
    "\n",
    "Your task is to create a Python dictionary that includes the following, for the units described above:\n",
    "\n",
    "\n",
    "    A tuple as the key, representing the units to convert between (e.g., (\"THz\", \"ps\")).\n",
    "    A value that is another tuple containing:\n",
    "        The conversion factor (a number).\n",
    "        A Boolean True or False indicating whether the conversion is inverse."
   ]
  },
  {
   "cell_type": "code",
   "execution_count": 52,
   "id": "b7600770-690c-4851-aed6-7a1a5a512345",
   "metadata": {},
   "outputs": [
    {
     "name": "stdout",
     "output_type": "stream",
     "text": [
      "Conversion factor: 1\n",
      "Is inverse relationship: True\n",
      "Conversion factor: 1\n",
      "Is inverse relationship: True\n",
      "Conversion factor: 33.356\n",
      "Is inverse relationship: False\n",
      "Conversion factor: 300\n",
      "Is inverse relationship: True\n",
      "Conversion factor: 6.28318\n",
      "Is inverse relationship: True\n",
      "Conversion factor: 0.15915\n",
      "Is inverse relationship: False\n",
      "Conversion factor: 22\n",
      "Is inverse relationship: False\n",
      "Conversion factor: 241.799\n",
      "Is inverse relationship: False\n"
     ]
    }
   ],
   "source": [
    "# Conversion factors and inverse relationship flag\n",
    "conversion_factors = {\n",
    "    (\"THz\", \"ps\"): (1, True),                   # Linear frequency to period (T=1/f)\n",
    "    (\"ps\", \"THz\"): (1, True),                   # Period to linear frequency (f=1/T)\n",
    "    (\"THz\", \"cm-1\"): (33.356, False),           # Linear frequency to linear wavenumber (k=f/c)\n",
    "    (\"THz\", \"micrometer\"): (300, True),         # Linear frequency to wavelength (f=c/lamba)\n",
    "    (\"cm-1\", \"micrometer\"): (6.28318, True),    # Wavenumberto wavelength (k=2pi/lamba)\n",
    "    (\"h-bar\", \"h\"): (0.15915, False),           # Reduced Planck's constant to Planck's constant (h-bar=h/2pi)\n",
    "    (\"2pi*THz\", \"wavenumber\"): (3*10^8, False), # Angular frequency to wavenumber (omega=ck)\n",
    "    (\"eV\", \"THz*h\"): (241.799, False),          # Energy to reduced Planck's constant times angular frequency (E=h-bar*omega)\n",
    "}\n",
    "\n",
    "if (\"THz\", \"ps\") in conversion_factors:\n",
    "    factor, is_inverse = conversion_factors[(\"THz\", \"ps\")]\n",
    "    print(f\"Conversion factor: {factor}\")\n",
    "    print(f\"Is inverse relationship: {is_inverse}\")\n",
    "else:\n",
    "    print(\"Conversion not supported.\")\n",
    "\n",
    "if (\"ps\", \"THz\") in conversion_factors:\n",
    "    factor, is_inverse = conversion_factors[(\"ps\", \"THz\")]\n",
    "    print(f\"Conversion factor: {factor}\")\n",
    "    print(f\"Is inverse relationship: {is_inverse}\")\n",
    "else:\n",
    "    print(\"Conversion not supported.\")\n",
    "\n",
    "if (\"THz\", \"cm-1\") in conversion_factors:\n",
    "    factor, is_inverse = conversion_factors[(\"THz\", \"cm-1\")]\n",
    "    print(f\"Conversion factor: {factor}\")\n",
    "    print(f\"Is inverse relationship: {is_inverse}\")\n",
    "else:\n",
    "    print(\"Conversion not supported.\")\n",
    "\n",
    "if (\"THz\", \"micrometer\") in conversion_factors:\n",
    "    factor, is_inverse = conversion_factors[(\"THz\", \"micrometer\")]\n",
    "    print(f\"Conversion factor: {factor}\")\n",
    "    print(f\"Is inverse relationship: {is_inverse}\")\n",
    "else:\n",
    "    print(\"Conversion not supported.\")\n",
    "\n",
    "if (\"cm-1\", \"micrometer\") in conversion_factors:\n",
    "    factor, is_inverse = conversion_factors[(\"cm-1\", \"micrometer\")]\n",
    "    print(f\"Conversion factor: {factor}\")\n",
    "    print(f\"Is inverse relationship: {is_inverse}\")\n",
    "else:\n",
    "    print(\"Conversion not supported.\")\n",
    "\n",
    "if (\"h-bar\", \"h\") in conversion_factors:\n",
    "    factor, is_inverse = conversion_factors[(\"h-bar\", \"h\")]\n",
    "    print(f\"Conversion factor: {factor}\")\n",
    "    print(f\"Is inverse relationship: {is_inverse}\")\n",
    "else:\n",
    "    print(\"Conversion not supported.\")\n",
    "\n",
    "if (\"2pi*THz\", \"wavenumber\") in conversion_factors:\n",
    "    factor, is_inverse = conversion_factors[(\"2pi*THz\", \"wavenumber\")]\n",
    "    print(f\"Conversion factor: {factor}\")\n",
    "    print(f\"Is inverse relationship: {is_inverse}\")\n",
    "else:\n",
    "    print(\"Conversion not supported.\")\n",
    "\n",
    "if (\"eV\", \"THz*h\") in conversion_factors:\n",
    "    factor, is_inverse = conversion_factors[(\"eV\", \"THz*h\")]\n",
    "    print(f\"Conversion factor: {factor}\")\n",
    "    print(f\"Is inverse relationship: {is_inverse}\")\n",
    "else:\n",
    "    print(\"Conversion not supported.\")"
   ]
  }
 ],
 "metadata": {
  "kernelspec": {
   "display_name": "Python 3 (ipykernel)",
   "language": "python",
   "name": "python3"
  },
  "language_info": {
   "codemirror_mode": {
    "name": "ipython",
    "version": 3
   },
   "file_extension": ".py",
   "mimetype": "text/x-python",
   "name": "python",
   "nbconvert_exporter": "python",
   "pygments_lexer": "ipython3",
   "version": "3.9.19"
  }
 },
 "nbformat": 4,
 "nbformat_minor": 5
}
